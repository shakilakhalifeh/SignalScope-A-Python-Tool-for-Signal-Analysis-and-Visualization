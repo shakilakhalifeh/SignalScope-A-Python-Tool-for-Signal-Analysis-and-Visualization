{
 "cells": [
  {
   "cell_type": "markdown",
   "id": "5876f4a1-4f88-4aa2-b02a-223bc788440c",
   "metadata": {},
   "source": [
    "#                                       Audiosignalverarbeitung mit Python\n",
    "\n",
    "**Ziel:**\n",
    "\n",
    "Entwicklung eines Python-Tools zur Analyse und Visulaliesierung von Audiosignalen. \n",
    "\n",
    "\n",
    "Bitte beachten Sie:\n",
    "Die Datei \"SoundHelix-Song-1.mp3\" muss im gleichen Ordner wie \"Audio_signal_verarbeitung.ipynb\" (Jupyter Notebook) liegen. "
   ]
  },
  {
   "cell_type": "code",
   "execution_count": null,
   "id": "47a3a076-9e30-49b9-9c75-443350758718",
   "metadata": {},
   "outputs": [],
   "source": [
    "#Import libraries\n",
    "import numpy as np\n",
    "import matplotlib.pyplot as plt\n",
    "from scipy.io import wavfile\n",
    "from scipy.fft import fft\n",
    "from pydub import AudioSegment\n",
    "\n",
    "#Load mp3 and export as wav\n",
    "sound = AudioSegment.from_mp3(\"SoundHelix-Song-1.mp3\")\n",
    "sound.export(\"sample_audio.wav\", format=\"wav\")\n",
    "\n",
    "#Read audiodata from wavfile package\n",
    "samplerate, data = wavfile.read(\"sample_audio.wav\")\n",
    "\n",
    "#Create timeline\n",
    "duration = len(data) / samplerate\n",
    "time = np.linspace(0., duration, len(data))\n",
    "\n",
    "#Plot audiosignal\n",
    "plt.figure(figsize=(10,4))\n",
    "plt.plot(time, data)\n",
    "plt.title(\"Audiosignal\")\n",
    "plt.xlabel(\"Time [s]\")\n",
    "plt.ylabel(\"Amplitude\")\n",
    "plt.grid()\n",
    "plt.show()\n",
    "\n",
    "#Fourier_Transformation\n",
    "N = len(data)\n",
    "yf = fft(data)\n",
    "xf = np.linspace(0.0, samplerate / 2.0, N // 2)\n",
    "\n",
    "#Plot frequency spectrum\n",
    "plt.figure(figsize=(10,4))\n",
    "plt.plot(xf, 2.0 / N * np.abs(yf[0:N // 2]))\n",
    "plt.title(\"Frequency Spectrum\")\n",
    "plt.xlabel(\"Frequency [Hz]\")\n",
    "plt.ylabel(\"Amplitude\")\n",
    "plt.grid()\n",
    "plt.show()"
   ]
  },
  {
   "cell_type": "code",
   "execution_count": null,
   "id": "8a141f92-e842-4200-a83e-4ed6cbd9ad23",
   "metadata": {},
   "outputs": [],
   "source": []
  }
 ],
 "metadata": {
  "kernelspec": {
   "display_name": "Python 3 (ipykernel)",
   "language": "python",
   "name": "python3"
  },
  "language_info": {
   "codemirror_mode": {
    "name": "ipython",
    "version": 3
   },
   "file_extension": ".py",
   "mimetype": "text/x-python",
   "name": "python",
   "nbconvert_exporter": "python",
   "pygments_lexer": "ipython3",
   "version": "3.10.12"
  }
 },
 "nbformat": 4,
 "nbformat_minor": 5
}
